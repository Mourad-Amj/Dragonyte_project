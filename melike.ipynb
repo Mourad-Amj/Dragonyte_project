{
 "cells": [
  {
   "cell_type": "code",
   "execution_count": 318,
   "metadata": {},
   "outputs": [],
   "source": [
    "import pandas as pd"
   ]
  },
  {
   "cell_type": "code",
   "execution_count": 466,
   "metadata": {},
   "outputs": [
    {
     "data": {
      "text/html": [
       "<div>\n",
       "<style scoped>\n",
       "    .dataframe tbody tr th:only-of-type {\n",
       "        vertical-align: middle;\n",
       "    }\n",
       "\n",
       "    .dataframe tbody tr th {\n",
       "        vertical-align: top;\n",
       "    }\n",
       "\n",
       "    .dataframe thead th {\n",
       "        text-align: right;\n",
       "    }\n",
       "</style>\n",
       "<table border=\"1\" class=\"dataframe\">\n",
       "  <thead>\n",
       "    <tr style=\"text-align: right;\">\n",
       "      <th></th>\n",
       "      <th>Name</th>\n",
       "    </tr>\n",
       "    <tr>\n",
       "      <th>id</th>\n",
       "      <th></th>\n",
       "    </tr>\n",
       "  </thead>\n",
       "  <tbody>\n",
       "    <tr>\n",
       "      <th>1</th>\n",
       "      <td>Beer</td>\n",
       "    </tr>\n",
       "    <tr>\n",
       "      <th>2</th>\n",
       "      <td>Wine</td>\n",
       "    </tr>\n",
       "    <tr>\n",
       "      <th>3</th>\n",
       "      <td>Spirits</td>\n",
       "    </tr>\n",
       "    <tr>\n",
       "      <th>4</th>\n",
       "      <td>RTDs/High-Strength Premixes</td>\n",
       "    </tr>\n",
       "    <tr>\n",
       "      <th>5</th>\n",
       "      <td>Cider/Perry</td>\n",
       "    </tr>\n",
       "  </tbody>\n",
       "</table>\n",
       "</div>"
      ],
      "text/plain": [
       "                           Name\n",
       "id                             \n",
       "1                          Beer\n",
       "2                          Wine\n",
       "3                       Spirits\n",
       "4   RTDs/High-Strength Premixes\n",
       "5                   Cider/Perry"
      ]
     },
     "execution_count": 466,
     "metadata": {},
     "output_type": "execute_result"
    }
   ],
   "source": [
    "categories = pd.read_csv(\"./Data/Categories.csv\",index_col=\"id\")\n",
    "categories"
   ]
  },
  {
   "cell_type": "code",
   "execution_count": 467,
   "metadata": {},
   "outputs": [
    {
     "data": {
      "text/html": [
       "<div>\n",
       "<style scoped>\n",
       "    .dataframe tbody tr th:only-of-type {\n",
       "        vertical-align: middle;\n",
       "    }\n",
       "\n",
       "    .dataframe tbody tr th {\n",
       "        vertical-align: top;\n",
       "    }\n",
       "\n",
       "    .dataframe thead th {\n",
       "        text-align: right;\n",
       "    }\n",
       "</style>\n",
       "<table border=\"1\" class=\"dataframe\">\n",
       "  <thead>\n",
       "    <tr style=\"text-align: right;\">\n",
       "      <th></th>\n",
       "      <th>Category</th>\n",
       "      <th>Name</th>\n",
       "    </tr>\n",
       "    <tr>\n",
       "      <th>id</th>\n",
       "      <th></th>\n",
       "      <th></th>\n",
       "    </tr>\n",
       "  </thead>\n",
       "  <tbody>\n",
       "    <tr>\n",
       "      <th>1</th>\n",
       "      <td>1</td>\n",
       "      <td>Ale</td>\n",
       "    </tr>\n",
       "    <tr>\n",
       "      <th>2</th>\n",
       "      <td>1</td>\n",
       "      <td>Weissbier/Weizen/Wheat Beer</td>\n",
       "    </tr>\n",
       "    <tr>\n",
       "      <th>3</th>\n",
       "      <td>1</td>\n",
       "      <td>Flavoured/Mixed Lager</td>\n",
       "    </tr>\n",
       "    <tr>\n",
       "      <th>4</th>\n",
       "      <td>1</td>\n",
       "      <td>Standard Lager</td>\n",
       "    </tr>\n",
       "    <tr>\n",
       "      <th>5</th>\n",
       "      <td>1</td>\n",
       "      <td>Sorghum</td>\n",
       "    </tr>\n",
       "    <tr>\n",
       "      <th>6</th>\n",
       "      <td>1</td>\n",
       "      <td>Stout</td>\n",
       "    </tr>\n",
       "    <tr>\n",
       "      <th>7</th>\n",
       "      <td>1</td>\n",
       "      <td>Non Alcoholic Beer</td>\n",
       "    </tr>\n",
       "    <tr>\n",
       "      <th>8</th>\n",
       "      <td>1</td>\n",
       "      <td>Lager</td>\n",
       "    </tr>\n",
       "    <tr>\n",
       "      <th>9</th>\n",
       "      <td>1</td>\n",
       "      <td>Dark Beer</td>\n",
       "    </tr>\n",
       "    <tr>\n",
       "      <th>10</th>\n",
       "      <td>1</td>\n",
       "      <td>Premium Lager</td>\n",
       "    </tr>\n",
       "    <tr>\n",
       "      <th>11</th>\n",
       "      <td>1</td>\n",
       "      <td>Mid-Priced Lager</td>\n",
       "    </tr>\n",
       "    <tr>\n",
       "      <th>12</th>\n",
       "      <td>1</td>\n",
       "      <td>Economy Lager</td>\n",
       "    </tr>\n",
       "    <tr>\n",
       "      <th>13</th>\n",
       "      <td>1</td>\n",
       "      <td>Beer</td>\n",
       "    </tr>\n",
       "    <tr>\n",
       "      <th>14</th>\n",
       "      <td>2</td>\n",
       "      <td>Wine</td>\n",
       "    </tr>\n",
       "    <tr>\n",
       "      <th>15</th>\n",
       "      <td>3</td>\n",
       "      <td>Spirits</td>\n",
       "    </tr>\n",
       "    <tr>\n",
       "      <th>16</th>\n",
       "      <td>4</td>\n",
       "      <td>RTDs/High-Strength Premixes</td>\n",
       "    </tr>\n",
       "    <tr>\n",
       "      <th>17</th>\n",
       "      <td>5</td>\n",
       "      <td>Cider/Perry</td>\n",
       "    </tr>\n",
       "  </tbody>\n",
       "</table>\n",
       "</div>"
      ],
      "text/plain": [
       "    Category                         Name\n",
       "id                                       \n",
       "1          1                          Ale\n",
       "2          1  Weissbier/Weizen/Wheat Beer\n",
       "3          1        Flavoured/Mixed Lager\n",
       "4          1               Standard Lager\n",
       "5          1                      Sorghum\n",
       "6          1                        Stout\n",
       "7          1           Non Alcoholic Beer\n",
       "8          1                        Lager\n",
       "9          1                    Dark Beer\n",
       "10         1                Premium Lager\n",
       "11         1             Mid-Priced Lager\n",
       "12         1                Economy Lager\n",
       "13         1                         Beer\n",
       "14         2                         Wine\n",
       "15         3                      Spirits\n",
       "16         4  RTDs/High-Strength Premixes\n",
       "17         5                  Cider/Perry"
      ]
     },
     "execution_count": 467,
     "metadata": {},
     "output_type": "execute_result"
    }
   ],
   "source": [
    "subcategories = pd.read_csv(\"./Data/Subcategories.csv\",index_col=\"id\")\n",
    "subcategories"
   ]
  },
  {
   "cell_type": "code",
   "execution_count": 469,
   "metadata": {},
   "outputs": [],
   "source": [
    "locations = pd.read_csv(\"./Data/Locations.csv\", delimiter=\";\")\n",
    "locations = locations.T.dropna()\n",
    "locations.columns = locations.iloc[0]\n",
    "locations = locations.tail(-1)"
   ]
  },
  {
   "cell_type": "code",
   "execution_count": 470,
   "metadata": {},
   "outputs": [
    {
     "data": {
      "text/html": [
       "<div>\n",
       "<style scoped>\n",
       "    .dataframe tbody tr th:only-of-type {\n",
       "        vertical-align: middle;\n",
       "    }\n",
       "\n",
       "    .dataframe tbody tr th {\n",
       "        vertical-align: top;\n",
       "    }\n",
       "\n",
       "    .dataframe thead th {\n",
       "        text-align: right;\n",
       "    }\n",
       "</style>\n",
       "<table border=\"1\" class=\"dataframe\">\n",
       "  <thead>\n",
       "    <tr style=\"text-align: right;\">\n",
       "      <th>id</th>\n",
       "      <th>Region</th>\n",
       "      <th>Country</th>\n",
       "    </tr>\n",
       "  </thead>\n",
       "  <tbody>\n",
       "    <tr>\n",
       "      <th>1</th>\n",
       "      <td>Asia Pacific</td>\n",
       "      <td>Asia Pacific</td>\n",
       "    </tr>\n",
       "    <tr>\n",
       "      <th>2</th>\n",
       "      <td>Australasia</td>\n",
       "      <td>Australasia</td>\n",
       "    </tr>\n",
       "    <tr>\n",
       "      <th>3</th>\n",
       "      <td>Eastern Europe</td>\n",
       "      <td>Eastern Europe</td>\n",
       "    </tr>\n",
       "    <tr>\n",
       "      <th>4</th>\n",
       "      <td>Latin America</td>\n",
       "      <td>Latin America</td>\n",
       "    </tr>\n",
       "    <tr>\n",
       "      <th>5</th>\n",
       "      <td>Middle East and Africa</td>\n",
       "      <td>Middle East and Africa</td>\n",
       "    </tr>\n",
       "    <tr>\n",
       "      <th>6</th>\n",
       "      <td>North America</td>\n",
       "      <td>North America</td>\n",
       "    </tr>\n",
       "    <tr>\n",
       "      <th>7</th>\n",
       "      <td>Western Europe</td>\n",
       "      <td>Western Europe</td>\n",
       "    </tr>\n",
       "    <tr>\n",
       "      <th>8</th>\n",
       "      <td>World</td>\n",
       "      <td>World</td>\n",
       "    </tr>\n",
       "  </tbody>\n",
       "</table>\n",
       "</div>"
      ],
      "text/plain": [
       "id                  Region                 Country\n",
       "1             Asia Pacific            Asia Pacific\n",
       "2              Australasia             Australasia\n",
       "3           Eastern Europe          Eastern Europe\n",
       "4            Latin America           Latin America\n",
       "5   Middle East and Africa  Middle East and Africa\n",
       "6            North America           North America\n",
       "7           Western Europe          Western Europe\n",
       "8                    World                   World"
      ]
     },
     "execution_count": 470,
     "metadata": {},
     "output_type": "execute_result"
    }
   ],
   "source": [
    "locations"
   ]
  },
  {
   "attachments": {},
   "cell_type": "markdown",
   "metadata": {},
   "source": [
    "# CHANNEL VOLUME DATA"
   ]
  },
  {
   "cell_type": "code",
   "execution_count": 472,
   "metadata": {},
   "outputs": [],
   "source": [
    "channel_volume = pd.read_csv(\"./Data/Channel_Volume.csv\")"
   ]
  },
  {
   "cell_type": "code",
   "execution_count": 473,
   "metadata": {},
   "outputs": [],
   "source": [
    "mapping_location = {1.0:'Asia Pacific', 2.0:'Australasia', 3.0:'Eastern Europe', 4.0:'Latin America', 5.0:'Middle East and Africa', 6.0:'North America', 7.0:'Western Europe', 8.0:'World'}\n",
    "channel_volume['Location'].replace(mapping_location, inplace=True)"
   ]
  },
  {
   "cell_type": "code",
   "execution_count": 474,
   "metadata": {},
   "outputs": [],
   "source": [
    "channel_volume['Year_date'] = pd.to_datetime(channel_volume['Year_date'])\n",
    "channel_volume['Year_date'] = channel_volume['Year_date'].dt.strftime(\"%d-%m-%Y\")"
   ]
  },
  {
   "cell_type": "code",
   "execution_count": 475,
   "metadata": {},
   "outputs": [],
   "source": [
    "channel_volume.loc[(channel_volume[\"Category\"].isna() == True) & (channel_volume[\"Subcategory\"] == \"Wine\"), \"Category\"] = \"Wine\"\n",
    "channel_volume.loc[(channel_volume[\"Category\"].isna() == True) & (channel_volume[\"Subcategory\"]== \"Beer\"), \"Category\"] = \"Beer\"\n",
    "channel_volume.loc[(channel_volume[\"Category\"].isna() == True) & (channel_volume[\"Subcategory\"]== \"Cider/Perry\"), \"Category\"] = \"Cider/Perry\""
   ]
  },
  {
   "cell_type": "code",
   "execution_count": 476,
   "metadata": {},
   "outputs": [],
   "source": [
    "channel_volume['Volume'] = channel_volume['Volume'].str.replace(',', '.').astype(float)"
   ]
  },
  {
   "cell_type": "code",
   "execution_count": 477,
   "metadata": {},
   "outputs": [],
   "source": [
    "channel_volume.loc[(channel_volume[\"Outlet\"] == \"VEnding\"), \"Outlet\"] = \"Vending\""
   ]
  },
  {
   "cell_type": "code",
   "execution_count": 478,
   "metadata": {},
   "outputs": [],
   "source": [
    "channel_volume.loc[channel_volume[\"Unit\"]=='000 litres',\"Volume_liters\"] = channel_volume[\"Volume\"] * 1000.0\n",
    "channel_volume.loc[channel_volume[\"Unit\"]=='million litres',\"Volume_liters\"] = channel_volume[\"Volume\"] * 1000000.0"
   ]
  },
  {
   "cell_type": "code",
   "execution_count": 480,
   "metadata": {},
   "outputs": [],
   "source": [
    "channel_volume.to_csv(\"./clean_data/channel_volume.csv\")"
   ]
  },
  {
   "attachments": {},
   "cell_type": "markdown",
   "metadata": {},
   "source": [
    "# COMPANY SHARE DATA"
   ]
  },
  {
   "cell_type": "code",
   "execution_count": 481,
   "metadata": {},
   "outputs": [],
   "source": [
    "company_share = pd.read_csv(\"./Data/Company_Share_GBO_unit.csv\", delimiter=\";\")\n",
    "company_share = company_share.dropna(ignore_index=True)"
   ]
  },
  {
   "cell_type": "code",
   "execution_count": 482,
   "metadata": {},
   "outputs": [],
   "source": [
    "company_share['Volume'] = company_share['Volume'].str.replace(',', '.').astype(float)"
   ]
  },
  {
   "cell_type": "code",
   "execution_count": 483,
   "metadata": {},
   "outputs": [
    {
     "data": {
      "text/plain": [
       "array(['million litres', '000 litres'], dtype=object)"
      ]
     },
     "execution_count": 483,
     "metadata": {},
     "output_type": "execute_result"
    }
   ],
   "source": [
    "company_share[\"Unit\"].unique()"
   ]
  },
  {
   "cell_type": "code",
   "execution_count": 484,
   "metadata": {},
   "outputs": [
    {
     "data": {
      "text/plain": [
       "array(['World', 'Western Europe', 'Eastern Europe', 'Asia Pacific',\n",
       "       'North America', 'Latin America', 'Australasia',\n",
       "       'Middle East and Africa'], dtype=object)"
      ]
     },
     "execution_count": 484,
     "metadata": {},
     "output_type": "execute_result"
    }
   ],
   "source": [
    "mapping_location = {1.0:'Asia Pacific', 2.0:'Australasia', 3.0:'Eastern Europe', 4.0:'Latin America', 5.0:'Middle East and Africa', 6.0:'North America', 7.0:'Western Europe', 8.0:'World'}\n",
    "company_share['Location'].replace(mapping_location,inplace=True)\n",
    "company_share['Location'].unique()"
   ]
  },
  {
   "cell_type": "code",
   "execution_count": 485,
   "metadata": {},
   "outputs": [],
   "source": [
    "subcategories_mapping = subcategories[\"Name\"].to_dict()\n",
    "company_share['Subcategory_ID'].replace(subcategories_mapping,inplace=True)"
   ]
  },
  {
   "cell_type": "code",
   "execution_count": 487,
   "metadata": {},
   "outputs": [],
   "source": [
    "company_share['Year_date'] = pd.to_datetime(company_share['Year_date'], format='mixed', dayfirst=True)\n",
    "company_share['Year_date'] = company_share['Year_date'].dt.strftime(\"%d-%m-%Y\")"
   ]
  },
  {
   "cell_type": "code",
   "execution_count": 488,
   "metadata": {},
   "outputs": [],
   "source": [
    "company_share.loc[company_share[\"Unit\"]=='000 litres',\"Volume_liters\"] = company_share[\"Volume\"] * 1000.0\n",
    "company_share.loc[company_share[\"Unit\"]=='million litres',\"Volume_liters\"] = company_share[\"Volume\"] * 1000000.0"
   ]
  },
  {
   "cell_type": "code",
   "execution_count": 490,
   "metadata": {},
   "outputs": [],
   "source": [
    "company_share.to_csv(\"./clean_data/company_share.csv\")"
   ]
  },
  {
   "attachments": {},
   "cell_type": "markdown",
   "metadata": {},
   "source": [
    "# MARKET SIZE DATA"
   ]
  },
  {
   "cell_type": "code",
   "execution_count": 457,
   "metadata": {},
   "outputs": [],
   "source": [
    "market_size = pd.read_csv(\"./Data/Market_Sizes.csv\")"
   ]
  },
  {
   "cell_type": "code",
   "execution_count": 491,
   "metadata": {},
   "outputs": [],
   "source": [
    "market_size['Year_date'] = pd.to_datetime(market_size['Year_date'], format='mixed', dayfirst=True)\n",
    "market_size['Year_date'] = market_size['Year_date'].dt.strftime('%d-%m-%Y')"
   ]
  },
  {
   "cell_type": "code",
   "execution_count": 492,
   "metadata": {},
   "outputs": [],
   "source": [
    "mapping_location = {1.0:'Asia Pacific', 2.0:'Australasia', 3.0:'Eastern Europe', 4.0:'Latin America', 5.0:'Middle East and Africa', 6.0:'North America', 7.0:'Western Europe', 8.0:'World'}\n",
    "market_size['Location'].replace(mapping_location,inplace=True)"
   ]
  },
  {
   "cell_type": "code",
   "execution_count": 493,
   "metadata": {},
   "outputs": [],
   "source": [
    "market_size[\"Weird_year\"] = market_size[\"Year_minus_2016\"] + 2016"
   ]
  },
  {
   "cell_type": "code",
   "execution_count": 494,
   "metadata": {},
   "outputs": [],
   "source": [
    "subcategories_mapping = subcategories[\"Name\"].to_dict()\n",
    "market_size['Subcategory'].replace(subcategories_mapping,inplace=True)"
   ]
  },
  {
   "cell_type": "code",
   "execution_count": 496,
   "metadata": {},
   "outputs": [],
   "source": [
    "market_size.to_csv(\"./clean_data/market_size.csv\")"
   ]
  }
 ],
 "metadata": {
  "kernelspec": {
   "display_name": "Python 3",
   "language": "python",
   "name": "python3"
  },
  "language_info": {
   "codemirror_mode": {
    "name": "ipython",
    "version": 3
   },
   "file_extension": ".py",
   "mimetype": "text/x-python",
   "name": "python",
   "nbconvert_exporter": "python",
   "pygments_lexer": "ipython3",
   "version": "3.11.2"
  },
  "orig_nbformat": 4
 },
 "nbformat": 4,
 "nbformat_minor": 2
}

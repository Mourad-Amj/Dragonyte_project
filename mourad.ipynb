{
 "cells": [
  {
   "cell_type": "code",
   "execution_count": 9,
   "metadata": {},
   "outputs": [],
   "source": [
    "import pandas as pd "
   ]
  },
  {
   "cell_type": "code",
   "execution_count": 10,
   "metadata": {},
   "outputs": [
    {
     "name": "stdout",
     "output_type": "stream",
     "text": [
      "   Location          Industry  Subcategory  Hierarchy_Level        Data_Type  \\\n",
      "0         1  Alcoholic Drinks            1                3  Total Value RSP   \n",
      "1         1  Alcoholic Drinks            1                3  Total Value RSP   \n",
      "2         1  Alcoholic Drinks            1                3  Total Value RSP   \n",
      "3         1  Alcoholic Drinks            1                3  Total Value RSP   \n",
      "4         1  Alcoholic Drinks            1                3  Total Value RSP   \n",
      "\n",
      "          Unit                                   Current_Constant  \\\n",
      "0  USD million  Historic Constant 2021 Prices, Forecast Consta...   \n",
      "1  USD million  Historic Constant 2021 Prices, Forecast Consta...   \n",
      "2  USD million  Historic Constant 2021 Prices, Forecast Consta...   \n",
      "3  USD million  Historic Constant 2021 Prices, Forecast Consta...   \n",
      "4  USD million  Historic Constant 2021 Prices, Forecast Consta...   \n",
      "\n",
      "                                 Currency_Conversion  Year  Year_date    RSP  \\\n",
      "0  Historic Fixed 2021 Exchange Rates, Forecast F...  2016  31-Dec-16  301.0   \n",
      "1  Historic Fixed 2021 Exchange Rates, Forecast F...  2017  31-Dec-17  318.0   \n",
      "2  Historic Fixed 2021 Exchange Rates, Forecast F...  2018  31-Dec-18  458.0   \n",
      "3  Historic Fixed 2021 Exchange Rates, Forecast F...  2019  31-Dec-19  612.0   \n",
      "4  Historic Fixed 2021 Exchange Rates, Forecast F...  2020  31-Dec-20  774.0   \n",
      "\n",
      "   Volume  Year_minus_2016  Year_minus_2022  Edition  \n",
      "0    27.0                4               -2     2022  \n",
      "1    28.0                5               -1     2022  \n",
      "2    40.0                6                0     2022  \n",
      "3    51.0                7                1     2022  \n",
      "4    62.0                8                2     2022  \n"
     ]
    }
   ],
   "source": [
    "filepath = './Data/Market_Sizes.csv'\n",
    "\n",
    "marketdata = pd.read_csv(filepath)\n",
    "\n",
    "# Print the first few rows of the DataFrame\n",
    "print(marketdata.head())\n"
   ]
  },
  {
   "cell_type": "code",
   "execution_count": 15,
   "metadata": {},
   "outputs": [
    {
     "name": "stdout",
     "output_type": "stream",
     "text": [
      "Index(['Location', 'Industry', 'Subcategory', 'Hierarchy_Level', 'Data_Type',\n",
      "       'Unit', 'Current_Constant', 'Currency_Conversion', 'Year', 'Year_date',\n",
      "       'RSP', 'Volume', 'Year_minus_2016', 'Year_minus_2022', 'Edition'],\n",
      "      dtype='object')\n"
     ]
    }
   ],
   "source": [
    "print(marketdata.columns)\n",
    "\n"
   ]
  },
  {
   "cell_type": "code",
   "execution_count": 11,
   "metadata": {},
   "outputs": [
    {
     "name": "stdout",
     "output_type": "stream",
     "text": [
      "Number of rows dropped: 0\n"
     ]
    }
   ],
   "source": [
    "num_rows_before = marketdata.shape[0]\n",
    "df_dropped = marketdata.dropna()\n",
    "num_rows_after = df_dropped.shape[0]\n",
    "num_rows_dropped = num_rows_before - num_rows_after\n",
    "\n",
    "print(f'Number of rows dropped: {num_rows_dropped}')\n"
   ]
  },
  {
   "cell_type": "code",
   "execution_count": 12,
   "metadata": {},
   "outputs": [
    {
     "name": "stdout",
     "output_type": "stream",
     "text": [
      "      Location          Industry  Subcategory  Hierarchy_Level  \\\n",
      "0            1  Alcoholic Drinks            1                3   \n",
      "1            1  Alcoholic Drinks            1                3   \n",
      "2            1  Alcoholic Drinks            1                3   \n",
      "3            1  Alcoholic Drinks            1                3   \n",
      "4            1  Alcoholic Drinks            1                3   \n",
      "...        ...               ...          ...              ...   \n",
      "1216         7  Alcoholic Drinks           17                1   \n",
      "1217         7  Alcoholic Drinks           17                1   \n",
      "1218         7  Alcoholic Drinks           17                1   \n",
      "1219         7  Alcoholic Drinks           17                1   \n",
      "1220         7  Alcoholic Drinks           17                1   \n",
      "\n",
      "            Data_Type         Unit  \\\n",
      "0     Total Value RSP  USD million   \n",
      "1     Total Value RSP  USD million   \n",
      "2     Total Value RSP  USD million   \n",
      "3     Total Value RSP  USD million   \n",
      "4     Total Value RSP  USD million   \n",
      "...               ...          ...   \n",
      "1216  Total Value RSP  USD million   \n",
      "1217  Total Value RSP  USD million   \n",
      "1218  Total Value RSP  USD million   \n",
      "1219  Total Value RSP  USD million   \n",
      "1220  Total Value RSP  USD million   \n",
      "\n",
      "                                       Current_Constant  \\\n",
      "0     Historic Constant 2021 Prices, Forecast Consta...   \n",
      "1     Historic Constant 2021 Prices, Forecast Consta...   \n",
      "2     Historic Constant 2021 Prices, Forecast Consta...   \n",
      "3     Historic Constant 2021 Prices, Forecast Consta...   \n",
      "4     Historic Constant 2021 Prices, Forecast Consta...   \n",
      "...                                                 ...   \n",
      "1216  Historic Constant 2021 Prices, Forecast Consta...   \n",
      "1217  Historic Constant 2021 Prices, Forecast Consta...   \n",
      "1218  Historic Constant 2021 Prices, Forecast Consta...   \n",
      "1219  Historic Constant 2021 Prices, Forecast Consta...   \n",
      "1220  Historic Constant 2021 Prices, Forecast Consta...   \n",
      "\n",
      "                                    Currency_Conversion  Year  Year_date  \\\n",
      "0     Historic Fixed 2021 Exchange Rates, Forecast F...  2016  31-Dec-16   \n",
      "1     Historic Fixed 2021 Exchange Rates, Forecast F...  2017  31-Dec-17   \n",
      "2     Historic Fixed 2021 Exchange Rates, Forecast F...  2018  31-Dec-18   \n",
      "3     Historic Fixed 2021 Exchange Rates, Forecast F...  2019  31-Dec-19   \n",
      "4     Historic Fixed 2021 Exchange Rates, Forecast F...  2020  31-Dec-20   \n",
      "...                                                 ...   ...        ...   \n",
      "1216  Historic Fixed 2021 Exchange Rates, Forecast F...  2022  31-Dec-22   \n",
      "1217  Historic Fixed 2021 Exchange Rates, Forecast F...  2023  31-Dec-23   \n",
      "1218  Historic Fixed 2021 Exchange Rates, Forecast F...  2024  31-Dec-24   \n",
      "1219  Historic Fixed 2021 Exchange Rates, Forecast F...  2025  31-Dec-25   \n",
      "1220  Historic Fixed 2021 Exchange Rates, Forecast F...  2026  31-Dec-26   \n",
      "\n",
      "          RSP  Volume  Year_minus_2016  Year_minus_2022  Edition  \n",
      "0     301.000  27.000                4               -2     2022  \n",
      "1     318.000  28.000                5               -1     2022  \n",
      "2     458.000  40.000                6                0     2022  \n",
      "3     612.000  51.000                7                1     2022  \n",
      "4     774.000  62.000                8                2     2022  \n",
      "...       ...     ...              ...              ...      ...  \n",
      "1216    6.545   1.204               10                4     2022  \n",
      "1217    6.628   1.214               11                5     2022  \n",
      "1218    6.708   1.227               12                6     2022  \n",
      "1219    6.793   1.240               13                7     2022  \n",
      "1220    6.892   1.256               14                8     2022  \n",
      "\n",
      "[1221 rows x 15 columns]\n"
     ]
    }
   ],
   "source": [
    "print(marketdata)"
   ]
  },
  {
   "cell_type": "code",
   "execution_count": 17,
   "metadata": {},
   "outputs": [
    {
     "name": "stdout",
     "output_type": "stream",
     "text": [
      "Number of invalid dates: 1221\n"
     ]
    }
   ],
   "source": [
    "marketdata['Year_date'] = pd.to_datetime(marketdata['Year_date'], format='%d/%m/%Y', errors='coerce')\n",
    "num_invalid_dates = df['Year_date'].isna().sum()\n",
    "print(f'Number of invalid dates: {num_invalid_dates}')\n",
    "\n"
   ]
  },
  {
   "cell_type": "code",
   "execution_count": 18,
   "metadata": {},
   "outputs": [
    {
     "name": "stdout",
     "output_type": "stream",
     "text": [
      "['USD million']\n"
     ]
    }
   ],
   "source": [
    "unique_units = marketdata['Unit'].unique()\n",
    "print(unique_units)\n"
   ]
  }
 ],
 "metadata": {
  "kernelspec": {
   "display_name": "venv",
   "language": "python",
   "name": "python3"
  },
  "language_info": {
   "codemirror_mode": {
    "name": "ipython",
    "version": 3
   },
   "file_extension": ".py",
   "mimetype": "text/x-python",
   "name": "python",
   "nbconvert_exporter": "python",
   "pygments_lexer": "ipython3",
   "version": "3.10.11"
  },
  "orig_nbformat": 4
 },
 "nbformat": 4,
 "nbformat_minor": 2
}

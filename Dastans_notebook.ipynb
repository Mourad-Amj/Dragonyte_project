{
 "cells": [
  {
   "attachments": {},
   "cell_type": "markdown",
   "metadata": {},
   "source": [
    " Data cleaning and modelling\n",
    "\n",
    "• Provide an environment (Database if possible) to connect Tableau to\n",
    "\n",
    "• Answer the following questions\n",
    "\n",
    "• What Categories/Subcategories are projected to grow the fastest in the next 5 years?\n",
    "\n",
    "• Within these Categories/Subcategories, what Channels are growing?\n",
    "\n",
    "• What is Dragonyte’s market position within these fast-growing categories?\n",
    "\n",
    "• Provide predictions + explanation of the model used\n",
    "\n",
    "• Give your recommendations to the Dragonyte Board\n",
    "\n",
    "• Think out of the box! Dare to surprise!"
   ]
  },
  {
   "cell_type": "code",
   "execution_count": 1,
   "metadata": {},
   "outputs": [],
   "source": [
    "import pandas as pd\n",
    "import numpy as np\n",
    "import matplotlib.pyplot as plt\n",
    "import seaborn as sns\n",
    "%matplotlib inline\n",
    "from scipy import stats\n",
    "import sklearn\n",
    "from sklearn.feature_selection import RFE\n"
   ]
  },
  {
   "cell_type": "code",
   "execution_count": 2,
   "metadata": {},
   "outputs": [],
   "source": [
    "pd.set_option(\"display.max_row\", 500)\n",
    "pd.set_option(\"display.max_columns\", 150)\n",
    "\n",
    "pd.set_option('display.max_colwidth', None)\n",
    "\n",
    "pd.set_option('display.precision', 2)\n",
    "\n",
    "pd.set_option('display.float_format', '{:.2f}'.format)\n"
   ]
  },
  {
   "cell_type": "code",
   "execution_count": 3,
   "metadata": {},
   "outputs": [],
   "source": [
    "#Market size TAM SAM\n",
    "df = pd.read_csv('Data/Market_Sizes.csv')"
   ]
  },
  {
   "cell_type": "code",
   "execution_count": 4,
   "metadata": {},
   "outputs": [],
   "source": [
    "subcategories = pd.read_csv('Data/Subcategories.csv')"
   ]
  },
  {
   "cell_type": "code",
   "execution_count": 5,
   "metadata": {},
   "outputs": [
    {
     "data": {
      "text/html": [
       "<div>\n",
       "<style scoped>\n",
       "    .dataframe tbody tr th:only-of-type {\n",
       "        vertical-align: middle;\n",
       "    }\n",
       "\n",
       "    .dataframe tbody tr th {\n",
       "        vertical-align: top;\n",
       "    }\n",
       "\n",
       "    .dataframe thead th {\n",
       "        text-align: right;\n",
       "    }\n",
       "</style>\n",
       "<table border=\"1\" class=\"dataframe\">\n",
       "  <thead>\n",
       "    <tr style=\"text-align: right;\">\n",
       "      <th></th>\n",
       "      <th>Location</th>\n",
       "      <th>Industry</th>\n",
       "      <th>Subcategory</th>\n",
       "      <th>Hierarchy_Level</th>\n",
       "      <th>Data_Type</th>\n",
       "      <th>Unit</th>\n",
       "      <th>Current_Constant</th>\n",
       "      <th>Currency_Conversion</th>\n",
       "      <th>Year</th>\n",
       "      <th>Year_date</th>\n",
       "      <th>RSP</th>\n",
       "      <th>Volume</th>\n",
       "      <th>Year_minus_2016</th>\n",
       "      <th>Year_minus_2022</th>\n",
       "      <th>Edition</th>\n",
       "    </tr>\n",
       "  </thead>\n",
       "  <tbody>\n",
       "    <tr>\n",
       "      <th>0</th>\n",
       "      <td>1</td>\n",
       "      <td>Alcoholic Drinks</td>\n",
       "      <td>1</td>\n",
       "      <td>3</td>\n",
       "      <td>Total Value RSP</td>\n",
       "      <td>USD million</td>\n",
       "      <td>Historic Constant 2021 Prices, Forecast Constant 2021 Prices</td>\n",
       "      <td>Historic Fixed 2021 Exchange Rates, Forecast Fixed 2021 Exchange Rates</td>\n",
       "      <td>2016</td>\n",
       "      <td>31-Dec-16</td>\n",
       "      <td>301.00</td>\n",
       "      <td>27.00</td>\n",
       "      <td>4</td>\n",
       "      <td>-2</td>\n",
       "      <td>2022</td>\n",
       "    </tr>\n",
       "    <tr>\n",
       "      <th>1</th>\n",
       "      <td>1</td>\n",
       "      <td>Alcoholic Drinks</td>\n",
       "      <td>1</td>\n",
       "      <td>3</td>\n",
       "      <td>Total Value RSP</td>\n",
       "      <td>USD million</td>\n",
       "      <td>Historic Constant 2021 Prices, Forecast Constant 2021 Prices</td>\n",
       "      <td>Historic Fixed 2021 Exchange Rates, Forecast Fixed 2021 Exchange Rates</td>\n",
       "      <td>2017</td>\n",
       "      <td>31-Dec-17</td>\n",
       "      <td>318.00</td>\n",
       "      <td>28.00</td>\n",
       "      <td>5</td>\n",
       "      <td>-1</td>\n",
       "      <td>2022</td>\n",
       "    </tr>\n",
       "    <tr>\n",
       "      <th>2</th>\n",
       "      <td>1</td>\n",
       "      <td>Alcoholic Drinks</td>\n",
       "      <td>1</td>\n",
       "      <td>3</td>\n",
       "      <td>Total Value RSP</td>\n",
       "      <td>USD million</td>\n",
       "      <td>Historic Constant 2021 Prices, Forecast Constant 2021 Prices</td>\n",
       "      <td>Historic Fixed 2021 Exchange Rates, Forecast Fixed 2021 Exchange Rates</td>\n",
       "      <td>2018</td>\n",
       "      <td>31-Dec-18</td>\n",
       "      <td>458.00</td>\n",
       "      <td>40.00</td>\n",
       "      <td>6</td>\n",
       "      <td>0</td>\n",
       "      <td>2022</td>\n",
       "    </tr>\n",
       "    <tr>\n",
       "      <th>3</th>\n",
       "      <td>1</td>\n",
       "      <td>Alcoholic Drinks</td>\n",
       "      <td>1</td>\n",
       "      <td>3</td>\n",
       "      <td>Total Value RSP</td>\n",
       "      <td>USD million</td>\n",
       "      <td>Historic Constant 2021 Prices, Forecast Constant 2021 Prices</td>\n",
       "      <td>Historic Fixed 2021 Exchange Rates, Forecast Fixed 2021 Exchange Rates</td>\n",
       "      <td>2019</td>\n",
       "      <td>31-Dec-19</td>\n",
       "      <td>612.00</td>\n",
       "      <td>51.00</td>\n",
       "      <td>7</td>\n",
       "      <td>1</td>\n",
       "      <td>2022</td>\n",
       "    </tr>\n",
       "    <tr>\n",
       "      <th>4</th>\n",
       "      <td>1</td>\n",
       "      <td>Alcoholic Drinks</td>\n",
       "      <td>1</td>\n",
       "      <td>3</td>\n",
       "      <td>Total Value RSP</td>\n",
       "      <td>USD million</td>\n",
       "      <td>Historic Constant 2021 Prices, Forecast Constant 2021 Prices</td>\n",
       "      <td>Historic Fixed 2021 Exchange Rates, Forecast Fixed 2021 Exchange Rates</td>\n",
       "      <td>2020</td>\n",
       "      <td>31-Dec-20</td>\n",
       "      <td>774.00</td>\n",
       "      <td>62.00</td>\n",
       "      <td>8</td>\n",
       "      <td>2</td>\n",
       "      <td>2022</td>\n",
       "    </tr>\n",
       "  </tbody>\n",
       "</table>\n",
       "</div>"
      ],
      "text/plain": [
       "   Location          Industry  Subcategory  Hierarchy_Level        Data_Type  \\\n",
       "0         1  Alcoholic Drinks            1                3  Total Value RSP   \n",
       "1         1  Alcoholic Drinks            1                3  Total Value RSP   \n",
       "2         1  Alcoholic Drinks            1                3  Total Value RSP   \n",
       "3         1  Alcoholic Drinks            1                3  Total Value RSP   \n",
       "4         1  Alcoholic Drinks            1                3  Total Value RSP   \n",
       "\n",
       "          Unit                                              Current_Constant  \\\n",
       "0  USD million  Historic Constant 2021 Prices, Forecast Constant 2021 Prices   \n",
       "1  USD million  Historic Constant 2021 Prices, Forecast Constant 2021 Prices   \n",
       "2  USD million  Historic Constant 2021 Prices, Forecast Constant 2021 Prices   \n",
       "3  USD million  Historic Constant 2021 Prices, Forecast Constant 2021 Prices   \n",
       "4  USD million  Historic Constant 2021 Prices, Forecast Constant 2021 Prices   \n",
       "\n",
       "                                                      Currency_Conversion  \\\n",
       "0  Historic Fixed 2021 Exchange Rates, Forecast Fixed 2021 Exchange Rates   \n",
       "1  Historic Fixed 2021 Exchange Rates, Forecast Fixed 2021 Exchange Rates   \n",
       "2  Historic Fixed 2021 Exchange Rates, Forecast Fixed 2021 Exchange Rates   \n",
       "3  Historic Fixed 2021 Exchange Rates, Forecast Fixed 2021 Exchange Rates   \n",
       "4  Historic Fixed 2021 Exchange Rates, Forecast Fixed 2021 Exchange Rates   \n",
       "\n",
       "   Year  Year_date    RSP  Volume  Year_minus_2016  Year_minus_2022  Edition  \n",
       "0  2016  31-Dec-16 301.00   27.00                4               -2     2022  \n",
       "1  2017  31-Dec-17 318.00   28.00                5               -1     2022  \n",
       "2  2018  31-Dec-18 458.00   40.00                6                0     2022  \n",
       "3  2019  31-Dec-19 612.00   51.00                7                1     2022  \n",
       "4  2020  31-Dec-20 774.00   62.00                8                2     2022  "
      ]
     },
     "execution_count": 5,
     "metadata": {},
     "output_type": "execute_result"
    }
   ],
   "source": [
    "df.head()"
   ]
  },
  {
   "cell_type": "code",
   "execution_count": 6,
   "metadata": {},
   "outputs": [
    {
     "data": {
      "text/plain": [
       "<bound method Series.unique of 0        1\n",
       "1        1\n",
       "2        1\n",
       "3        1\n",
       "4        1\n",
       "        ..\n",
       "1216    17\n",
       "1217    17\n",
       "1218    17\n",
       "1219    17\n",
       "1220    17\n",
       "Name: Subcategory, Length: 1221, dtype: int64>"
      ]
     },
     "execution_count": 6,
     "metadata": {},
     "output_type": "execute_result"
    }
   ],
   "source": [
    "df['Subcategory'].unique"
   ]
  },
  {
   "cell_type": "code",
   "execution_count": 7,
   "metadata": {},
   "outputs": [],
   "source": [
    "df = pd.merge(subcategories, df, left_on='id', right_on='Subcategory', suffixes=('SUBC', '_DF'))\n"
   ]
  },
  {
   "cell_type": "code",
   "execution_count": 8,
   "metadata": {},
   "outputs": [
    {
     "data": {
      "text/plain": [
       "(1221, 18)"
      ]
     },
     "execution_count": 8,
     "metadata": {},
     "output_type": "execute_result"
    }
   ],
   "source": [
    "df.shape"
   ]
  },
  {
   "cell_type": "code",
   "execution_count": 9,
   "metadata": {},
   "outputs": [
    {
     "data": {
      "text/plain": [
       "id                     0\n",
       "Category               0\n",
       "Name                   0\n",
       "Location               0\n",
       "Industry               0\n",
       "Subcategory            0\n",
       "Hierarchy_Level        0\n",
       "Data_Type              0\n",
       "Unit                   0\n",
       "Current_Constant       0\n",
       "Currency_Conversion    0\n",
       "Year                   0\n",
       "Year_date              0\n",
       "RSP                    0\n",
       "Volume                 0\n",
       "Year_minus_2016        0\n",
       "Year_minus_2022        0\n",
       "Edition                0\n",
       "dtype: int64"
      ]
     },
     "execution_count": 9,
     "metadata": {},
     "output_type": "execute_result"
    }
   ],
   "source": [
    "df.isnull().sum()"
   ]
  },
  {
   "cell_type": "code",
   "execution_count": 10,
   "metadata": {},
   "outputs": [
    {
     "name": "stdout",
     "output_type": "stream",
     "text": [
      "id                       int64\n",
      "Category                 int64\n",
      "Name                    object\n",
      "Location                 int64\n",
      "Industry                object\n",
      "Subcategory              int64\n",
      "Hierarchy_Level          int64\n",
      "Data_Type               object\n",
      "Unit                    object\n",
      "Current_Constant        object\n",
      "Currency_Conversion     object\n",
      "Year                     int64\n",
      "Year_date               object\n",
      "RSP                    float64\n",
      "Volume                 float64\n",
      "Year_minus_2016          int64\n",
      "Year_minus_2022          int64\n",
      "Edition                  int64\n",
      "dtype: object\n"
     ]
    }
   ],
   "source": [
    "print(df.dtypes)\n"
   ]
  },
  {
   "cell_type": "code",
   "execution_count": 11,
   "metadata": {},
   "outputs": [
    {
     "data": {
      "text/plain": [
       "array(['USD million'], dtype=object)"
      ]
     },
     "execution_count": 11,
     "metadata": {},
     "output_type": "execute_result"
    }
   ],
   "source": [
    "df['Unit'].unique()\n"
   ]
  },
  {
   "cell_type": "code",
   "execution_count": 12,
   "metadata": {},
   "outputs": [],
   "source": [
    "df.drop_duplicates(inplace=True)\n"
   ]
  },
  {
   "cell_type": "code",
   "execution_count": 13,
   "metadata": {},
   "outputs": [
    {
     "data": {
      "text/plain": [
       "<bound method Series.unique of 0       Total Value RSP\n",
       "1       Total Value RSP\n",
       "2       Total Value RSP\n",
       "3       Total Value RSP\n",
       "4       Total Value RSP\n",
       "             ...       \n",
       "1216    Total Value RSP\n",
       "1217    Total Value RSP\n",
       "1218    Total Value RSP\n",
       "1219    Total Value RSP\n",
       "1220    Total Value RSP\n",
       "Name: Data_Type, Length: 1221, dtype: object>"
      ]
     },
     "execution_count": 13,
     "metadata": {},
     "output_type": "execute_result"
    }
   ],
   "source": [
    "df['Data_Type'].unique"
   ]
  },
  {
   "cell_type": "code",
   "execution_count": 14,
   "metadata": {},
   "outputs": [
    {
     "data": {
      "text/html": [
       "<div>\n",
       "<style scoped>\n",
       "    .dataframe tbody tr th:only-of-type {\n",
       "        vertical-align: middle;\n",
       "    }\n",
       "\n",
       "    .dataframe tbody tr th {\n",
       "        vertical-align: top;\n",
       "    }\n",
       "\n",
       "    .dataframe thead th {\n",
       "        text-align: right;\n",
       "    }\n",
       "</style>\n",
       "<table border=\"1\" class=\"dataframe\">\n",
       "  <thead>\n",
       "    <tr style=\"text-align: right;\">\n",
       "      <th></th>\n",
       "      <th>id</th>\n",
       "      <th>Category</th>\n",
       "      <th>Name</th>\n",
       "      <th>Location</th>\n",
       "      <th>Industry</th>\n",
       "      <th>Subcategory</th>\n",
       "      <th>Hierarchy_Level</th>\n",
       "      <th>Data_Type</th>\n",
       "      <th>Unit</th>\n",
       "      <th>Current_Constant</th>\n",
       "      <th>Currency_Conversion</th>\n",
       "      <th>Year</th>\n",
       "      <th>Year_date</th>\n",
       "      <th>RSP</th>\n",
       "      <th>Volume</th>\n",
       "      <th>Year_minus_2016</th>\n",
       "      <th>Year_minus_2022</th>\n",
       "      <th>Edition</th>\n",
       "    </tr>\n",
       "  </thead>\n",
       "  <tbody>\n",
       "    <tr>\n",
       "      <th>0</th>\n",
       "      <td>1</td>\n",
       "      <td>1</td>\n",
       "      <td>Ale</td>\n",
       "      <td>1</td>\n",
       "      <td>Alcoholic Drinks</td>\n",
       "      <td>1</td>\n",
       "      <td>3</td>\n",
       "      <td>Total Value RSP</td>\n",
       "      <td>USD million</td>\n",
       "      <td>Historic Constant 2021 Prices, Forecast Constant 2021 Prices</td>\n",
       "      <td>Historic Fixed 2021 Exchange Rates, Forecast Fixed 2021 Exchange Rates</td>\n",
       "      <td>2016</td>\n",
       "      <td>31-Dec-16</td>\n",
       "      <td>301.00</td>\n",
       "      <td>27.00</td>\n",
       "      <td>4</td>\n",
       "      <td>-2</td>\n",
       "      <td>2022</td>\n",
       "    </tr>\n",
       "    <tr>\n",
       "      <th>1</th>\n",
       "      <td>1</td>\n",
       "      <td>1</td>\n",
       "      <td>Ale</td>\n",
       "      <td>1</td>\n",
       "      <td>Alcoholic Drinks</td>\n",
       "      <td>1</td>\n",
       "      <td>3</td>\n",
       "      <td>Total Value RSP</td>\n",
       "      <td>USD million</td>\n",
       "      <td>Historic Constant 2021 Prices, Forecast Constant 2021 Prices</td>\n",
       "      <td>Historic Fixed 2021 Exchange Rates, Forecast Fixed 2021 Exchange Rates</td>\n",
       "      <td>2017</td>\n",
       "      <td>31-Dec-17</td>\n",
       "      <td>318.00</td>\n",
       "      <td>28.00</td>\n",
       "      <td>5</td>\n",
       "      <td>-1</td>\n",
       "      <td>2022</td>\n",
       "    </tr>\n",
       "    <tr>\n",
       "      <th>2</th>\n",
       "      <td>1</td>\n",
       "      <td>1</td>\n",
       "      <td>Ale</td>\n",
       "      <td>1</td>\n",
       "      <td>Alcoholic Drinks</td>\n",
       "      <td>1</td>\n",
       "      <td>3</td>\n",
       "      <td>Total Value RSP</td>\n",
       "      <td>USD million</td>\n",
       "      <td>Historic Constant 2021 Prices, Forecast Constant 2021 Prices</td>\n",
       "      <td>Historic Fixed 2021 Exchange Rates, Forecast Fixed 2021 Exchange Rates</td>\n",
       "      <td>2018</td>\n",
       "      <td>31-Dec-18</td>\n",
       "      <td>458.00</td>\n",
       "      <td>40.00</td>\n",
       "      <td>6</td>\n",
       "      <td>0</td>\n",
       "      <td>2022</td>\n",
       "    </tr>\n",
       "    <tr>\n",
       "      <th>3</th>\n",
       "      <td>1</td>\n",
       "      <td>1</td>\n",
       "      <td>Ale</td>\n",
       "      <td>1</td>\n",
       "      <td>Alcoholic Drinks</td>\n",
       "      <td>1</td>\n",
       "      <td>3</td>\n",
       "      <td>Total Value RSP</td>\n",
       "      <td>USD million</td>\n",
       "      <td>Historic Constant 2021 Prices, Forecast Constant 2021 Prices</td>\n",
       "      <td>Historic Fixed 2021 Exchange Rates, Forecast Fixed 2021 Exchange Rates</td>\n",
       "      <td>2019</td>\n",
       "      <td>31-Dec-19</td>\n",
       "      <td>612.00</td>\n",
       "      <td>51.00</td>\n",
       "      <td>7</td>\n",
       "      <td>1</td>\n",
       "      <td>2022</td>\n",
       "    </tr>\n",
       "    <tr>\n",
       "      <th>4</th>\n",
       "      <td>1</td>\n",
       "      <td>1</td>\n",
       "      <td>Ale</td>\n",
       "      <td>1</td>\n",
       "      <td>Alcoholic Drinks</td>\n",
       "      <td>1</td>\n",
       "      <td>3</td>\n",
       "      <td>Total Value RSP</td>\n",
       "      <td>USD million</td>\n",
       "      <td>Historic Constant 2021 Prices, Forecast Constant 2021 Prices</td>\n",
       "      <td>Historic Fixed 2021 Exchange Rates, Forecast Fixed 2021 Exchange Rates</td>\n",
       "      <td>2020</td>\n",
       "      <td>31-Dec-20</td>\n",
       "      <td>774.00</td>\n",
       "      <td>62.00</td>\n",
       "      <td>8</td>\n",
       "      <td>2</td>\n",
       "      <td>2022</td>\n",
       "    </tr>\n",
       "  </tbody>\n",
       "</table>\n",
       "</div>"
      ],
      "text/plain": [
       "   id  Category Name  Location          Industry  Subcategory  \\\n",
       "0   1         1  Ale         1  Alcoholic Drinks            1   \n",
       "1   1         1  Ale         1  Alcoholic Drinks            1   \n",
       "2   1         1  Ale         1  Alcoholic Drinks            1   \n",
       "3   1         1  Ale         1  Alcoholic Drinks            1   \n",
       "4   1         1  Ale         1  Alcoholic Drinks            1   \n",
       "\n",
       "   Hierarchy_Level        Data_Type         Unit  \\\n",
       "0                3  Total Value RSP  USD million   \n",
       "1                3  Total Value RSP  USD million   \n",
       "2                3  Total Value RSP  USD million   \n",
       "3                3  Total Value RSP  USD million   \n",
       "4                3  Total Value RSP  USD million   \n",
       "\n",
       "                                               Current_Constant  \\\n",
       "0  Historic Constant 2021 Prices, Forecast Constant 2021 Prices   \n",
       "1  Historic Constant 2021 Prices, Forecast Constant 2021 Prices   \n",
       "2  Historic Constant 2021 Prices, Forecast Constant 2021 Prices   \n",
       "3  Historic Constant 2021 Prices, Forecast Constant 2021 Prices   \n",
       "4  Historic Constant 2021 Prices, Forecast Constant 2021 Prices   \n",
       "\n",
       "                                                      Currency_Conversion  \\\n",
       "0  Historic Fixed 2021 Exchange Rates, Forecast Fixed 2021 Exchange Rates   \n",
       "1  Historic Fixed 2021 Exchange Rates, Forecast Fixed 2021 Exchange Rates   \n",
       "2  Historic Fixed 2021 Exchange Rates, Forecast Fixed 2021 Exchange Rates   \n",
       "3  Historic Fixed 2021 Exchange Rates, Forecast Fixed 2021 Exchange Rates   \n",
       "4  Historic Fixed 2021 Exchange Rates, Forecast Fixed 2021 Exchange Rates   \n",
       "\n",
       "   Year  Year_date    RSP  Volume  Year_minus_2016  Year_minus_2022  Edition  \n",
       "0  2016  31-Dec-16 301.00   27.00                4               -2     2022  \n",
       "1  2017  31-Dec-17 318.00   28.00                5               -1     2022  \n",
       "2  2018  31-Dec-18 458.00   40.00                6                0     2022  \n",
       "3  2019  31-Dec-19 612.00   51.00                7                1     2022  \n",
       "4  2020  31-Dec-20 774.00   62.00                8                2     2022  "
      ]
     },
     "execution_count": 14,
     "metadata": {},
     "output_type": "execute_result"
    }
   ],
   "source": [
    "df.head()"
   ]
  },
  {
   "cell_type": "code",
   "execution_count": 20,
   "metadata": {},
   "outputs": [],
   "source": [
    "df = df.drop(['Year_minus_2022','Year_minus_2016','Edition','Current_Constant','Currency_Conversion','Unit','Data_Type','Year_date'], axis=1)"
   ]
  },
  {
   "cell_type": "code",
   "execution_count": 21,
   "metadata": {},
   "outputs": [
    {
     "data": {
      "text/plain": [
       "(1221, 8)"
      ]
     },
     "execution_count": 21,
     "metadata": {},
     "output_type": "execute_result"
    }
   ],
   "source": [
    "numerical=df.select_dtypes(include=np.number)\n",
    "numerical.shape"
   ]
  },
  {
   "cell_type": "code",
   "execution_count": 22,
   "metadata": {},
   "outputs": [
    {
     "data": {
      "text/plain": [
       "(1221, 2)"
      ]
     },
     "execution_count": 22,
     "metadata": {},
     "output_type": "execute_result"
    }
   ],
   "source": [
    "categorical = df.select_dtypes(include=['object', 'category'])\n",
    "categorical.shape"
   ]
  },
  {
   "cell_type": "code",
   "execution_count": 23,
   "metadata": {},
   "outputs": [
    {
     "data": {
      "text/plain": [
       "Index(['id', 'Category', 'Name', 'Location', 'Industry', 'Subcategory',\n",
       "       'Hierarchy_Level', 'Year', 'RSP', 'Volume'],\n",
       "      dtype='object')"
      ]
     },
     "execution_count": 23,
     "metadata": {},
     "output_type": "execute_result"
    }
   ],
   "source": [
    "df.columns"
   ]
  },
  {
   "cell_type": "code",
   "execution_count": 25,
   "metadata": {},
   "outputs": [
    {
     "data": {
      "text/plain": [
       "<Axes: >"
      ]
     },
     "execution_count": 25,
     "metadata": {},
     "output_type": "execute_result"
    },
    {
     "data": {
      "image/png": "[encoded data removed]",
      "text/plain": [
       "<Figure size 1400x900 with 2 Axes>"
      ]
     },
     "metadata": {},
     "output_type": "display_data"
    }
   ],
   "source": [
    "corr = numerical.corr()\n",
    "plt.figure(figsize=(14,9))\n",
    "sns.heatmap(corr, annot=True, cmap='coolwarm')"
   ]
  },
  {
   "cell_type": "code",
   "execution_count": 26,
   "metadata": {},
   "outputs": [],
   "source": [
    "X = numerical.drop(\"RSP\",axis=1)   #Feature Matrix\n",
    "y = numerical[\"RSP\"] "
   ]
  },
  {
   "cell_type": "code",
   "execution_count": 28,
   "metadata": {},
   "outputs": [
    {
     "data": {
      "text/plain": [
       "((854, 7), (367, 7))"
      ]
     },
     "execution_count": 28,
     "metadata": {},
     "output_type": "execute_result"
    }
   ],
   "source": [
    "from sklearn.model_selection import train_test_split\n",
    "\n",
    "X_train, X_test, y_train, y_test = train_test_split(\n",
    "    X,\n",
    "    y,\n",
    "    test_size=0.3,\n",
    "    random_state=0)\n",
    "\n",
    "X_train.shape, X_test.shape"
   ]
  },
  {
   "cell_type": "code",
   "execution_count": 29,
   "metadata": {},
   "outputs": [
    {
     "data": {
      "text/html": [
       "<style>#sk-container-id-1 {color: black;background-color: white;}#sk-container-id-1 pre{padding: 0;}#sk-container-id-1 div.sk-toggleable {background-color: white;}#sk-container-id-1 label.sk-toggleable__label {cursor: pointer;display: block;width: 100%;margin-bottom: 0;padding: 0.3em;box-sizing: border-box;text-align: center;}#sk-container-id-1 label.sk-toggleable__label-arrow:before {content: \"▸\";float: left;margin-right: 0.25em;color: #696969;}#sk-container-id-1 label.sk-toggleable__label-arrow:hover:before {color: black;}#sk-container-id-1 div.sk-estimator:hover label.sk-toggleable__label-arrow:before {color: black;}#sk-container-id-1 div.sk-toggleable__content {max-height: 0;max-width: 0;overflow: hidden;text-align: left;background-color: #f0f8ff;}#sk-container-id-1 div.sk-toggleable__content pre {margin: 0.2em;color: black;border-radius: 0.25em;background-color: #f0f8ff;}#sk-container-id-1 input.sk-toggleable__control:checked~div.sk-toggleable__content {max-height: 200px;max-width: 100%;overflow: auto;}#sk-container-id-1 input.sk-toggleable__control:checked~label.sk-toggleable__label-arrow:before {content: \"▾\";}#sk-container-id-1 div.sk-estimator input.sk-toggleable__control:checked~label.sk-toggleable__label {background-color: #d4ebff;}#sk-container-id-1 div.sk-label input.sk-toggleable__control:checked~label.sk-toggleable__label {background-color: #d4ebff;}#sk-container-id-1 input.sk-hidden--visually {border: 0;clip: rect(1px 1px 1px 1px);clip: rect(1px, 1px, 1px, 1px);height: 1px;margin: -1px;overflow: hidden;padding: 0;position: absolute;width: 1px;}#sk-container-id-1 div.sk-estimator {font-family: monospace;background-color: #f0f8ff;border: 1px dotted black;border-radius: 0.25em;box-sizing: border-box;margin-bottom: 0.5em;}#sk-container-id-1 div.sk-estimator:hover {background-color: #d4ebff;}#sk-container-id-1 div.sk-parallel-item::after {content: \"\";width: 100%;border-bottom: 1px solid gray;flex-grow: 1;}#sk-container-id-1 div.sk-label:hover label.sk-toggleable__label {background-color: #d4ebff;}#sk-container-id-1 div.sk-serial::before {content: \"\";position: absolute;border-left: 1px solid gray;box-sizing: border-box;top: 0;bottom: 0;left: 50%;z-index: 0;}#sk-container-id-1 div.sk-serial {display: flex;flex-direction: column;align-items: center;background-color: white;padding-right: 0.2em;padding-left: 0.2em;position: relative;}#sk-container-id-1 div.sk-item {position: relative;z-index: 1;}#sk-container-id-1 div.sk-parallel {display: flex;align-items: stretch;justify-content: center;background-color: white;position: relative;}#sk-container-id-1 div.sk-item::before, #sk-container-id-1 div.sk-parallel-item::before {content: \"\";position: absolute;border-left: 1px solid gray;box-sizing: border-box;top: 0;bottom: 0;left: 50%;z-index: -1;}#sk-container-id-1 div.sk-parallel-item {display: flex;flex-direction: column;z-index: 1;position: relative;background-color: white;}#sk-container-id-1 div.sk-parallel-item:first-child::after {align-self: flex-end;width: 50%;}#sk-container-id-1 div.sk-parallel-item:last-child::after {align-self: flex-start;width: 50%;}#sk-container-id-1 div.sk-parallel-item:only-child::after {width: 0;}#sk-container-id-1 div.sk-dashed-wrapped {border: 1px dashed gray;margin: 0 0.4em 0.5em 0.4em;box-sizing: border-box;padding-bottom: 0.4em;background-color: white;}#sk-container-id-1 div.sk-label label {font-family: monospace;font-weight: bold;display: inline-block;line-height: 1.2em;}#sk-container-id-1 div.sk-label-container {text-align: center;}#sk-container-id-1 div.sk-container {/* jupyter's `normalize.less` sets `[hidden] { display: none; }` but bootstrap.min.css set `[hidden] { display: none !important; }` so we also need the `!important` here to be able to override the default hidden behavior on the sphinx rendered scikit-learn.org. See: https://github.com/scikit-learn/scikit-learn/issues/21755 */display: inline-block !important;position: relative;}#sk-container-id-1 div.sk-text-repr-fallback {display: none;}</style><div id=\"sk-container-id-1\" class=\"sk-top-container\"><div class=\"sk-text-repr-fallback\"><pre>ExtraTreesRegressor()</pre><b>In a Jupyter environment, please rerun this cell to show the HTML representation or trust the notebook. <br />On GitHub, the HTML representation is unable to render, please try loading this page with nbviewer.org.</b></div><div class=\"sk-container\" hidden><div class=\"sk-item\"><div class=\"sk-estimator sk-toggleable\"><input class=\"sk-toggleable__control sk-hidden--visually\" id=\"sk-estimator-id-1\" type=\"checkbox\" checked><label for=\"sk-estimator-id-1\" class=\"sk-toggleable__label sk-toggleable__label-arrow\">ExtraTreesRegressor</label><div class=\"sk-toggleable__content\"><pre>ExtraTreesRegressor()</pre></div></div></div></div></div>"
      ],
      "text/plain": [
       "ExtraTreesRegressor()"
      ]
     },
     "execution_count": 29,
     "metadata": {},
     "output_type": "execute_result"
    }
   ],
   "source": [
    "from sklearn.ensemble import ExtraTreesRegressor\n",
    "\n",
    "model = ExtraTreesRegressor()\n",
    "model.fit(X, y)"
   ]
  },
  {
   "cell_type": "code",
   "execution_count": 30,
   "metadata": {},
   "outputs": [
    {
     "name": "stdout",
     "output_type": "stream",
     "text": [
      "[0.09223456 0.02231359 0.25682689 0.08827141 0.04497571 0.08971439\n",
      " 0.40566345]\n"
     ]
    }
   ],
   "source": [
    "print(model.feature_importances_)\n"
   ]
  },
  {
   "cell_type": "code",
   "execution_count": 31,
   "metadata": {},
   "outputs": [
    {
     "data": {
      "image/png": "[encoded data removed]",
      "text/plain": [
       "<Figure size 640x480 with 1 Axes>"
      ]
     },
     "metadata": {},
     "output_type": "display_data"
    }
   ],
   "source": [
    "feat_importances = pd.Series(model.feature_importances_, index=X.columns)\n",
    "feat_importances.nlargest(10).plot(kind='barh')\n",
    "plt.show()"
   ]
  },
  {
   "cell_type": "code",
   "execution_count": 33,
   "metadata": {},
   "outputs": [
    {
     "name": "stdout",
     "output_type": "stream",
     "text": [
      "0\n"
     ]
    }
   ],
   "source": [
    "constant_columns = [column for column in X_train.columns\n",
    "                    if column not in X_train.columns[var_thres.get_support()]]\n",
    "\n",
    "print(len(constant_columns))"
   ]
  },
  {
   "cell_type": "code",
   "execution_count": 41,
   "metadata": {},
   "outputs": [
    {
     "data": {
      "text/plain": [
       "<Axes: xlabel='RSP', ylabel='Year'>"
      ]
     },
     "execution_count": 41,
     "metadata": {},
     "output_type": "execute_result"
    },
    {
     "data": {
      "image/png": "[encoded data removed]",
      "text/plain": [
       "<Figure size 640x480 with 1 Axes>"
      ]
     },
     "metadata": {},
     "output_type": "display_data"
    }
   ],
   "source": [
    "\n",
    "\n",
    "sns.scatterplot(data=df, x='RSP', y='Year')\n"
   ]
  },
  {
   "cell_type": "code",
   "execution_count": null,
   "metadata": {},
   "outputs": [],
   "source": []
  },
  {
   "cell_type": "code",
   "execution_count": null,
   "metadata": {},
   "outputs": [],
   "source": []
  },
  {
   "cell_type": "code",
   "execution_count": null,
   "metadata": {},
   "outputs": [],
   "source": []
  }
 ],
 "metadata": {
  "kernelspec": {
   "display_name": "acc",
   "language": "python",
   "name": "python3"
  },
  "language_info": {
   "codemirror_mode": {
    "name": "ipython",
    "version": 3
   },
   "file_extension": ".py",
   "mimetype": "text/x-python",
   "name": "python",
   "nbconvert_exporter": "python",
   "pygments_lexer": "ipython3",
   "version": "3.11.4"
  },
  "orig_nbformat": 4
 },
 "nbformat": 4,
 "nbformat_minor": 2
}

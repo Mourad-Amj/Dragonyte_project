{
 "cells": [
  {
   "cell_type": "code",
   "execution_count": 3,
   "metadata": {},
   "outputs": [],
   "source": [
    "import pandas as pd"
   ]
  },
  {
   "cell_type": "code",
   "execution_count": 2,
   "metadata": {},
   "outputs": [
    {
     "data": {
      "text/html": [
       "<div>\n",
       "<style scoped>\n",
       "    .dataframe tbody tr th:only-of-type {\n",
       "        vertical-align: middle;\n",
       "    }\n",
       "\n",
       "    .dataframe tbody tr th {\n",
       "        vertical-align: top;\n",
       "    }\n",
       "\n",
       "    .dataframe thead th {\n",
       "        text-align: right;\n",
       "    }\n",
       "</style>\n",
       "<table border=\"1\" class=\"dataframe\">\n",
       "  <thead>\n",
       "    <tr style=\"text-align: right;\">\n",
       "      <th></th>\n",
       "      <th>Name</th>\n",
       "    </tr>\n",
       "    <tr>\n",
       "      <th>id</th>\n",
       "      <th></th>\n",
       "    </tr>\n",
       "  </thead>\n",
       "  <tbody>\n",
       "    <tr>\n",
       "      <th>1</th>\n",
       "      <td>Beer</td>\n",
       "    </tr>\n",
       "    <tr>\n",
       "      <th>2</th>\n",
       "      <td>Wine</td>\n",
       "    </tr>\n",
       "    <tr>\n",
       "      <th>3</th>\n",
       "      <td>Spirits</td>\n",
       "    </tr>\n",
       "    <tr>\n",
       "      <th>4</th>\n",
       "      <td>RTDs/High-Strength Premixes</td>\n",
       "    </tr>\n",
       "    <tr>\n",
       "      <th>5</th>\n",
       "      <td>Cider/Perry</td>\n",
       "    </tr>\n",
       "  </tbody>\n",
       "</table>\n",
       "</div>"
      ],
      "text/plain": [
       "                           Name\n",
       "id                             \n",
       "1                          Beer\n",
       "2                          Wine\n",
       "3                       Spirits\n",
       "4   RTDs/High-Strength Premixes\n",
       "5                   Cider/Perry"
      ]
     },
     "execution_count": 2,
     "metadata": {},
     "output_type": "execute_result"
    }
   ],
   "source": [
    "categories = pd.read_csv(\"./raw_data/Categories.csv\",index_col=\"id\")\n",
    "categories"
   ]
  },
  {
   "cell_type": "code",
   "execution_count": 3,
   "metadata": {},
   "outputs": [
    {
     "data": {
      "text/html": [
       "<div>\n",
       "<style scoped>\n",
       "    .dataframe tbody tr th:only-of-type {\n",
       "        vertical-align: middle;\n",
       "    }\n",
       "\n",
       "    .dataframe tbody tr th {\n",
       "        vertical-align: top;\n",
       "    }\n",
       "\n",
       "    .dataframe thead th {\n",
       "        text-align: right;\n",
       "    }\n",
       "</style>\n",
       "<table border=\"1\" class=\"dataframe\">\n",
       "  <thead>\n",
       "    <tr style=\"text-align: right;\">\n",
       "      <th></th>\n",
       "      <th>Category</th>\n",
       "      <th>Name</th>\n",
       "    </tr>\n",
       "    <tr>\n",
       "      <th>id</th>\n",
       "      <th></th>\n",
       "      <th></th>\n",
       "    </tr>\n",
       "  </thead>\n",
       "  <tbody>\n",
       "    <tr>\n",
       "      <th>1</th>\n",
       "      <td>1</td>\n",
       "      <td>Ale</td>\n",
       "    </tr>\n",
       "    <tr>\n",
       "      <th>2</th>\n",
       "      <td>1</td>\n",
       "      <td>Weissbier/Weizen/Wheat Beer</td>\n",
       "    </tr>\n",
       "    <tr>\n",
       "      <th>3</th>\n",
       "      <td>1</td>\n",
       "      <td>Flavoured/Mixed Lager</td>\n",
       "    </tr>\n",
       "    <tr>\n",
       "      <th>4</th>\n",
       "      <td>1</td>\n",
       "      <td>Standard Lager</td>\n",
       "    </tr>\n",
       "    <tr>\n",
       "      <th>5</th>\n",
       "      <td>1</td>\n",
       "      <td>Sorghum</td>\n",
       "    </tr>\n",
       "    <tr>\n",
       "      <th>6</th>\n",
       "      <td>1</td>\n",
       "      <td>Stout</td>\n",
       "    </tr>\n",
       "    <tr>\n",
       "      <th>7</th>\n",
       "      <td>1</td>\n",
       "      <td>Non Alcoholic Beer</td>\n",
       "    </tr>\n",
       "    <tr>\n",
       "      <th>8</th>\n",
       "      <td>1</td>\n",
       "      <td>Lager</td>\n",
       "    </tr>\n",
       "    <tr>\n",
       "      <th>9</th>\n",
       "      <td>1</td>\n",
       "      <td>Dark Beer</td>\n",
       "    </tr>\n",
       "    <tr>\n",
       "      <th>10</th>\n",
       "      <td>1</td>\n",
       "      <td>Premium Lager</td>\n",
       "    </tr>\n",
       "    <tr>\n",
       "      <th>11</th>\n",
       "      <td>1</td>\n",
       "      <td>Mid-Priced Lager</td>\n",
       "    </tr>\n",
       "    <tr>\n",
       "      <th>12</th>\n",
       "      <td>1</td>\n",
       "      <td>Economy Lager</td>\n",
       "    </tr>\n",
       "    <tr>\n",
       "      <th>13</th>\n",
       "      <td>1</td>\n",
       "      <td>Beer</td>\n",
       "    </tr>\n",
       "    <tr>\n",
       "      <th>14</th>\n",
       "      <td>2</td>\n",
       "      <td>Wine</td>\n",
       "    </tr>\n",
       "    <tr>\n",
       "      <th>15</th>\n",
       "      <td>3</td>\n",
       "      <td>Spirits</td>\n",
       "    </tr>\n",
       "    <tr>\n",
       "      <th>16</th>\n",
       "      <td>4</td>\n",
       "      <td>RTDs/High-Strength Premixes</td>\n",
       "    </tr>\n",
       "    <tr>\n",
       "      <th>17</th>\n",
       "      <td>5</td>\n",
       "      <td>Cider/Perry</td>\n",
       "    </tr>\n",
       "  </tbody>\n",
       "</table>\n",
       "</div>"
      ],
      "text/plain": [
       "    Category                         Name\n",
       "id                                       \n",
       "1          1                          Ale\n",
       "2          1  Weissbier/Weizen/Wheat Beer\n",
       "3          1        Flavoured/Mixed Lager\n",
       "4          1               Standard Lager\n",
       "5          1                      Sorghum\n",
       "6          1                        Stout\n",
       "7          1           Non Alcoholic Beer\n",
       "8          1                        Lager\n",
       "9          1                    Dark Beer\n",
       "10         1                Premium Lager\n",
       "11         1             Mid-Priced Lager\n",
       "12         1                Economy Lager\n",
       "13         1                         Beer\n",
       "14         2                         Wine\n",
       "15         3                      Spirits\n",
       "16         4  RTDs/High-Strength Premixes\n",
       "17         5                  Cider/Perry"
      ]
     },
     "execution_count": 3,
     "metadata": {},
     "output_type": "execute_result"
    }
   ],
   "source": [
    "subcategories = pd.read_csv(\"./raw_data/Subcategories.csv\",index_col=\"id\")\n",
    "subcategories"
   ]
  },
  {
   "cell_type": "code",
   "execution_count": 4,
   "metadata": {},
   "outputs": [],
   "source": [
    "locations = pd.read_csv(\"./raw_data/Locations.csv\", delimiter=\";\")\n",
    "locations = locations.T.dropna()\n",
    "locations.columns = locations.iloc[0]\n",
    "locations = locations.tail(-1)"
   ]
  },
  {
   "cell_type": "code",
   "execution_count": 5,
   "metadata": {},
   "outputs": [
    {
     "data": {
      "text/plain": [
       "1              Asia Pacific\n",
       "2               Australasia\n",
       "3            Eastern Europe\n",
       "4             Latin America\n",
       "5    Middle East and Africa\n",
       "6             North America\n",
       "7            Western Europe\n",
       "8                     World\n",
       "Name: Region, dtype: object"
      ]
     },
     "execution_count": 5,
     "metadata": {},
     "output_type": "execute_result"
    }
   ],
   "source": [
    "locations[\"Region\"]"
   ]
  },
  {
   "attachments": {},
   "cell_type": "markdown",
   "metadata": {},
   "source": [
    "# CHANNEL VOLUME DATA"
   ]
  },
  {
   "cell_type": "code",
   "execution_count": 6,
   "metadata": {},
   "outputs": [],
   "source": [
    "channel_volume = pd.read_csv(\"./raw_data/Channel_Volume.csv\")"
   ]
  },
  {
   "cell_type": "code",
   "execution_count": 7,
   "metadata": {},
   "outputs": [
    {
     "data": {
      "text/plain": [
       "array(['Beer', 'Cider/Perry', 'RTDs/High-Strength Premixes', 'Spirits',\n",
       "       'Wine'], dtype=object)"
      ]
     },
     "execution_count": 7,
     "metadata": {},
     "output_type": "execute_result"
    }
   ],
   "source": [
    "channel_volume[\"Subcategory\"].unique()"
   ]
  },
  {
   "cell_type": "code",
   "execution_count": 8,
   "metadata": {},
   "outputs": [],
   "source": [
    "mapping_location = {1.0:'Asia Pacific', 2.0:'Australasia', 3.0:'Eastern Europe', 4.0:'Latin America', 5.0:'Middle East and Africa', 6.0:'North America', 7.0:'Western Europe', 8.0:'World'}\n",
    "channel_volume['Location'].replace(mapping_location, inplace=True)"
   ]
  },
  {
   "cell_type": "code",
   "execution_count": 9,
   "metadata": {},
   "outputs": [],
   "source": [
    "channel_volume['Year_date'] = pd.to_datetime(channel_volume['Year_date'])\n",
    "channel_volume['Year_date'] = channel_volume['Year_date'].dt.strftime(\"%d/%m/%Y\")"
   ]
  },
  {
   "cell_type": "code",
   "execution_count": 10,
   "metadata": {},
   "outputs": [],
   "source": [
    "channel_volume.loc[(channel_volume[\"Category\"].isna() == True) & (channel_volume[\"Subcategory\"] == \"Wine\"), \"Category\"] = \"Wine\"\n",
    "channel_volume.loc[(channel_volume[\"Category\"].isna() == True) & (channel_volume[\"Subcategory\"]== \"Beer\"), \"Category\"] = \"Beer\"\n",
    "channel_volume.loc[(channel_volume[\"Category\"].isna() == True) & (channel_volume[\"Subcategory\"]== \"Cider/Perry\"), \"Category\"] = \"Cider/Perry\""
   ]
  },
  {
   "cell_type": "code",
   "execution_count": 11,
   "metadata": {},
   "outputs": [],
   "source": [
    "channel_volume['Volume'] = channel_volume['Volume'].str.replace(',', '.').astype(float)"
   ]
  },
  {
   "cell_type": "code",
   "execution_count": 12,
   "metadata": {},
   "outputs": [],
   "source": [
    "channel_volume.loc[(channel_volume[\"Outlet\"] == \"VEnding\"), \"Outlet\"] = \"Vending\""
   ]
  },
  {
   "cell_type": "code",
   "execution_count": 13,
   "metadata": {},
   "outputs": [],
   "source": [
    "channel_volume.loc[channel_volume[\"Unit\"]=='000 litres',\"Volume_liters\"] = channel_volume[\"Volume\"] * 1000.0\n",
    "channel_volume.loc[channel_volume[\"Unit\"]=='million litres',\"Volume_liters\"] = channel_volume[\"Volume\"] * 1000000.0"
   ]
  },
  {
   "cell_type": "code",
   "execution_count": 14,
   "metadata": {},
   "outputs": [],
   "source": [
    "channel_volume.to_csv(\"./clean_data/channel_volume.csv\")"
   ]
  },
  {
   "cell_type": "code",
   "execution_count": 42,
   "metadata": {},
   "outputs": [
    {
     "data": {
      "text/html": [
       "<div>\n",
       "<style scoped>\n",
       "    .dataframe tbody tr th:only-of-type {\n",
       "        vertical-align: middle;\n",
       "    }\n",
       "\n",
       "    .dataframe tbody tr th {\n",
       "        vertical-align: top;\n",
       "    }\n",
       "\n",
       "    .dataframe thead th {\n",
       "        text-align: right;\n",
       "    }\n",
       "</style>\n",
       "<table border=\"1\" class=\"dataframe\">\n",
       "  <thead>\n",
       "    <tr style=\"text-align: right;\">\n",
       "      <th></th>\n",
       "      <th>Unnamed: 0</th>\n",
       "      <th>Location</th>\n",
       "      <th>Industry</th>\n",
       "      <th>Edition</th>\n",
       "      <th>Category</th>\n",
       "      <th>Subcategory</th>\n",
       "      <th>Hierarchy_Level</th>\n",
       "      <th>Data_Type</th>\n",
       "      <th>Outlet</th>\n",
       "      <th>Outlet_Hierarchy</th>\n",
       "      <th>Unit</th>\n",
       "      <th>Year_text</th>\n",
       "      <th>Year_date</th>\n",
       "      <th>Volume</th>\n",
       "      <th>Volume_liters</th>\n",
       "    </tr>\n",
       "  </thead>\n",
       "  <tbody>\n",
       "    <tr>\n",
       "      <th>0</th>\n",
       "      <td>0</td>\n",
       "      <td>Asia Pacific</td>\n",
       "      <td>Alcoholic Drinks</td>\n",
       "      <td>2022</td>\n",
       "      <td>Beer</td>\n",
       "      <td>Beer</td>\n",
       "      <td>1</td>\n",
       "      <td>Off-trade Volume</td>\n",
       "      <td>Food/drink/tobacco specialists</td>\n",
       "      <td>3</td>\n",
       "      <td>million litres</td>\n",
       "      <td>2007</td>\n",
       "      <td>31/12/2007</td>\n",
       "      <td>2613.845506</td>\n",
       "      <td>2.613846e+09</td>\n",
       "    </tr>\n",
       "    <tr>\n",
       "      <th>1</th>\n",
       "      <td>1</td>\n",
       "      <td>Asia Pacific</td>\n",
       "      <td>Alcoholic Drinks</td>\n",
       "      <td>2022</td>\n",
       "      <td>Beer</td>\n",
       "      <td>Beer</td>\n",
       "      <td>1</td>\n",
       "      <td>Off-trade Volume</td>\n",
       "      <td>Food/drink/tobacco specialists</td>\n",
       "      <td>3</td>\n",
       "      <td>million litres</td>\n",
       "      <td>2008</td>\n",
       "      <td>31/12/2008</td>\n",
       "      <td>2513.025824</td>\n",
       "      <td>2.513026e+09</td>\n",
       "    </tr>\n",
       "    <tr>\n",
       "      <th>2</th>\n",
       "      <td>2</td>\n",
       "      <td>Asia Pacific</td>\n",
       "      <td>Alcoholic Drinks</td>\n",
       "      <td>2022</td>\n",
       "      <td>Beer</td>\n",
       "      <td>Beer</td>\n",
       "      <td>1</td>\n",
       "      <td>Off-trade Volume</td>\n",
       "      <td>Food/drink/tobacco specialists</td>\n",
       "      <td>3</td>\n",
       "      <td>million litres</td>\n",
       "      <td>2009</td>\n",
       "      <td>31/12/2009</td>\n",
       "      <td>2421.088595</td>\n",
       "      <td>2.421089e+09</td>\n",
       "    </tr>\n",
       "    <tr>\n",
       "      <th>3</th>\n",
       "      <td>3</td>\n",
       "      <td>Asia Pacific</td>\n",
       "      <td>Alcoholic Drinks</td>\n",
       "      <td>2022</td>\n",
       "      <td>Beer</td>\n",
       "      <td>Beer</td>\n",
       "      <td>1</td>\n",
       "      <td>Off-trade Volume</td>\n",
       "      <td>Food/drink/tobacco specialists</td>\n",
       "      <td>3</td>\n",
       "      <td>million litres</td>\n",
       "      <td>2010</td>\n",
       "      <td>31/12/2010</td>\n",
       "      <td>2422.128432</td>\n",
       "      <td>2.422128e+09</td>\n",
       "    </tr>\n",
       "    <tr>\n",
       "      <th>4</th>\n",
       "      <td>4</td>\n",
       "      <td>Asia Pacific</td>\n",
       "      <td>Alcoholic Drinks</td>\n",
       "      <td>2022</td>\n",
       "      <td>Beer</td>\n",
       "      <td>Beer</td>\n",
       "      <td>1</td>\n",
       "      <td>Off-trade Volume</td>\n",
       "      <td>Food/drink/tobacco specialists</td>\n",
       "      <td>3</td>\n",
       "      <td>million litres</td>\n",
       "      <td>2011</td>\n",
       "      <td>31/12/2011</td>\n",
       "      <td>2439.336220</td>\n",
       "      <td>2.439336e+09</td>\n",
       "    </tr>\n",
       "    <tr>\n",
       "      <th>...</th>\n",
       "      <td>...</td>\n",
       "      <td>...</td>\n",
       "      <td>...</td>\n",
       "      <td>...</td>\n",
       "      <td>...</td>\n",
       "      <td>...</td>\n",
       "      <td>...</td>\n",
       "      <td>...</td>\n",
       "      <td>...</td>\n",
       "      <td>...</td>\n",
       "      <td>...</td>\n",
       "      <td>...</td>\n",
       "      <td>...</td>\n",
       "      <td>...</td>\n",
       "      <td>...</td>\n",
       "    </tr>\n",
       "    <tr>\n",
       "      <th>8463</th>\n",
       "      <td>8463</td>\n",
       "      <td>Western Europe</td>\n",
       "      <td>Alcoholic Drinks</td>\n",
       "      <td>2022</td>\n",
       "      <td>Beer</td>\n",
       "      <td>Beer</td>\n",
       "      <td>1</td>\n",
       "      <td>Off-trade Volume</td>\n",
       "      <td>Store-Based Retailing</td>\n",
       "      <td>1</td>\n",
       "      <td>million litres</td>\n",
       "      <td>2017</td>\n",
       "      <td>31/12/2017</td>\n",
       "      <td>16514.210840</td>\n",
       "      <td>1.651421e+10</td>\n",
       "    </tr>\n",
       "    <tr>\n",
       "      <th>8464</th>\n",
       "      <td>8464</td>\n",
       "      <td>Western Europe</td>\n",
       "      <td>Alcoholic Drinks</td>\n",
       "      <td>2022</td>\n",
       "      <td>Beer</td>\n",
       "      <td>Beer</td>\n",
       "      <td>1</td>\n",
       "      <td>Off-trade Volume</td>\n",
       "      <td>Store-Based Retailing</td>\n",
       "      <td>1</td>\n",
       "      <td>million litres</td>\n",
       "      <td>2018</td>\n",
       "      <td>31/12/2018</td>\n",
       "      <td>16522.152390</td>\n",
       "      <td>1.652215e+10</td>\n",
       "    </tr>\n",
       "    <tr>\n",
       "      <th>8465</th>\n",
       "      <td>8465</td>\n",
       "      <td>Western Europe</td>\n",
       "      <td>Alcoholic Drinks</td>\n",
       "      <td>2022</td>\n",
       "      <td>Beer</td>\n",
       "      <td>Beer</td>\n",
       "      <td>1</td>\n",
       "      <td>Off-trade Volume</td>\n",
       "      <td>Store-Based Retailing</td>\n",
       "      <td>1</td>\n",
       "      <td>million litres</td>\n",
       "      <td>2019</td>\n",
       "      <td>31/12/2019</td>\n",
       "      <td>16544.606440</td>\n",
       "      <td>1.654461e+10</td>\n",
       "    </tr>\n",
       "    <tr>\n",
       "      <th>8466</th>\n",
       "      <td>8466</td>\n",
       "      <td>Western Europe</td>\n",
       "      <td>Alcoholic Drinks</td>\n",
       "      <td>2022</td>\n",
       "      <td>Beer</td>\n",
       "      <td>Beer</td>\n",
       "      <td>1</td>\n",
       "      <td>Off-trade Volume</td>\n",
       "      <td>Store-Based Retailing</td>\n",
       "      <td>1</td>\n",
       "      <td>million litres</td>\n",
       "      <td>2020</td>\n",
       "      <td>31/12/2020</td>\n",
       "      <td>16626.514900</td>\n",
       "      <td>1.662651e+10</td>\n",
       "    </tr>\n",
       "    <tr>\n",
       "      <th>8467</th>\n",
       "      <td>8467</td>\n",
       "      <td>Western Europe</td>\n",
       "      <td>Alcoholic Drinks</td>\n",
       "      <td>2022</td>\n",
       "      <td>Beer</td>\n",
       "      <td>Beer</td>\n",
       "      <td>1</td>\n",
       "      <td>Off-trade Volume</td>\n",
       "      <td>Store-Based Retailing</td>\n",
       "      <td>1</td>\n",
       "      <td>million litres</td>\n",
       "      <td>2021</td>\n",
       "      <td>31/12/2021</td>\n",
       "      <td>16664.638000</td>\n",
       "      <td>1.666464e+10</td>\n",
       "    </tr>\n",
       "  </tbody>\n",
       "</table>\n",
       "<p>8468 rows × 15 columns</p>\n",
       "</div>"
      ],
      "text/plain": [
       "      Unnamed: 0        Location          Industry  Edition Category  \\\n",
       "0              0    Asia Pacific  Alcoholic Drinks     2022     Beer   \n",
       "1              1    Asia Pacific  Alcoholic Drinks     2022     Beer   \n",
       "2              2    Asia Pacific  Alcoholic Drinks     2022     Beer   \n",
       "3              3    Asia Pacific  Alcoholic Drinks     2022     Beer   \n",
       "4              4    Asia Pacific  Alcoholic Drinks     2022     Beer   \n",
       "...          ...             ...               ...      ...      ...   \n",
       "8463        8463  Western Europe  Alcoholic Drinks     2022     Beer   \n",
       "8464        8464  Western Europe  Alcoholic Drinks     2022     Beer   \n",
       "8465        8465  Western Europe  Alcoholic Drinks     2022     Beer   \n",
       "8466        8466  Western Europe  Alcoholic Drinks     2022     Beer   \n",
       "8467        8467  Western Europe  Alcoholic Drinks     2022     Beer   \n",
       "\n",
       "     Subcategory  Hierarchy_Level         Data_Type  \\\n",
       "0           Beer                1  Off-trade Volume   \n",
       "1           Beer                1  Off-trade Volume   \n",
       "2           Beer                1  Off-trade Volume   \n",
       "3           Beer                1  Off-trade Volume   \n",
       "4           Beer                1  Off-trade Volume   \n",
       "...          ...              ...               ...   \n",
       "8463        Beer                1  Off-trade Volume   \n",
       "8464        Beer                1  Off-trade Volume   \n",
       "8465        Beer                1  Off-trade Volume   \n",
       "8466        Beer                1  Off-trade Volume   \n",
       "8467        Beer                1  Off-trade Volume   \n",
       "\n",
       "                              Outlet  Outlet_Hierarchy            Unit  \\\n",
       "0     Food/drink/tobacco specialists                 3  million litres   \n",
       "1     Food/drink/tobacco specialists                 3  million litres   \n",
       "2     Food/drink/tobacco specialists                 3  million litres   \n",
       "3     Food/drink/tobacco specialists                 3  million litres   \n",
       "4     Food/drink/tobacco specialists                 3  million litres   \n",
       "...                              ...               ...             ...   \n",
       "8463           Store-Based Retailing                 1  million litres   \n",
       "8464           Store-Based Retailing                 1  million litres   \n",
       "8465           Store-Based Retailing                 1  million litres   \n",
       "8466           Store-Based Retailing                 1  million litres   \n",
       "8467           Store-Based Retailing                 1  million litres   \n",
       "\n",
       "      Year_text   Year_date        Volume  Volume_liters  \n",
       "0          2007  31/12/2007   2613.845506   2.613846e+09  \n",
       "1          2008  31/12/2008   2513.025824   2.513026e+09  \n",
       "2          2009  31/12/2009   2421.088595   2.421089e+09  \n",
       "3          2010  31/12/2010   2422.128432   2.422128e+09  \n",
       "4          2011  31/12/2011   2439.336220   2.439336e+09  \n",
       "...         ...         ...           ...            ...  \n",
       "8463       2017  31/12/2017  16514.210840   1.651421e+10  \n",
       "8464       2018  31/12/2018  16522.152390   1.652215e+10  \n",
       "8465       2019  31/12/2019  16544.606440   1.654461e+10  \n",
       "8466       2020  31/12/2020  16626.514900   1.662651e+10  \n",
       "8467       2021  31/12/2021  16664.638000   1.666464e+10  \n",
       "\n",
       "[8468 rows x 15 columns]"
      ]
     },
     "execution_count": 42,
     "metadata": {},
     "output_type": "execute_result"
    }
   ],
   "source": [
    "channel_volume"
   ]
  },
  {
   "attachments": {},
   "cell_type": "markdown",
   "metadata": {},
   "source": [
    "# COMPANY SHARE DATA"
   ]
  },
  {
   "cell_type": "code",
   "execution_count": 16,
   "metadata": {},
   "outputs": [],
   "source": [
    "company_share = pd.read_csv(\"./raw_data/Company_Share_GBO_unit.csv\", delimiter=\";\")\n",
    "company_share = company_share.dropna(ignore_index=True)"
   ]
  },
  {
   "cell_type": "code",
   "execution_count": 17,
   "metadata": {},
   "outputs": [],
   "source": [
    "company_share['Volume'] = company_share['Volume'].str.replace(',', '.').astype(float)"
   ]
  },
  {
   "cell_type": "code",
   "execution_count": 18,
   "metadata": {},
   "outputs": [],
   "source": [
    "mapping_location = {1.0:'Asia Pacific', 2.0:'Australasia', 3.0:'Eastern Europe', 4.0:'Latin America', 5.0:'Middle East and Africa', 6.0:'North America', 7.0:'Western Europe', 8.0:'World'}\n",
    "company_share['Location'].replace(mapping_location,inplace=True)"
   ]
  },
  {
   "cell_type": "code",
   "execution_count": 19,
   "metadata": {},
   "outputs": [],
   "source": [
    "subcategories_mapping = subcategories[\"Name\"].to_dict()\n",
    "company_share['Subcategory_ID'].replace(subcategories_mapping,inplace=True)\n",
    "company_share = company_share.rename(columns={\"Subcategory_ID\": \"Subcategory\"})"
   ]
  },
  {
   "cell_type": "code",
   "execution_count": 20,
   "metadata": {},
   "outputs": [],
   "source": [
    "company_share['Year_date'] = pd.to_datetime(company_share['Year_date'], format='mixed', dayfirst=True)\n",
    "company_share['Year_date'] = company_share['Year_date'].dt.strftime(\"%d/%m/%Y\")"
   ]
  },
  {
   "cell_type": "code",
   "execution_count": 21,
   "metadata": {},
   "outputs": [],
   "source": [
    "company_share.loc[company_share[\"Unit\"]=='000 litres',\"Volume_liters\"] = company_share[\"Volume\"] * 1000.0\n",
    "company_share.loc[company_share[\"Unit\"]=='million litres',\"Volume_liters\"] = company_share[\"Volume\"] * 1000000.0"
   ]
  },
  {
   "cell_type": "code",
   "execution_count": 22,
   "metadata": {},
   "outputs": [],
   "source": [
    "company_share[\"Non_minus_year\"] = (company_share[\"Year_minus_2016\"] + 2016)"
   ]
  },
  {
   "cell_type": "code",
   "execution_count": 23,
   "metadata": {},
   "outputs": [],
   "source": [
    "company_share.to_csv(\"./clean_data/company_share.csv\")\n"
   ]
  },
  {
   "attachments": {},
   "cell_type": "markdown",
   "metadata": {},
   "source": [
    "# MARKET SIZE DATA"
   ]
  },
  {
   "cell_type": "code",
   "execution_count": 70,
   "metadata": {},
   "outputs": [],
   "source": [
    "market_size = pd.read_csv(\"./raw_data/Market_Sizes.csv\")"
   ]
  },
  {
   "cell_type": "code",
   "execution_count": 72,
   "metadata": {},
   "outputs": [
    {
     "data": {
      "text/plain": [
       "13399364999.999998"
      ]
     },
     "execution_count": 72,
     "metadata": {},
     "output_type": "execute_result"
    }
   ],
   "source": [
    "market_size[market_size[\"Year\"]==2021][\"RSP\"].sum()*1000000"
   ]
  },
  {
   "cell_type": "code",
   "execution_count": 26,
   "metadata": {},
   "outputs": [],
   "source": [
    "market_size['Year_date'] = pd.to_datetime(market_size['Year_date'], format='mixed', dayfirst=True)\n",
    "market_size['Year_date'] = market_size['Year_date'].dt.strftime('%d/%m/%Y')"
   ]
  },
  {
   "cell_type": "code",
   "execution_count": 27,
   "metadata": {},
   "outputs": [],
   "source": [
    "mapping_location = {1.0:'Asia Pacific', 2.0:'Australasia', 3.0:'Eastern Europe', 4.0:'Latin America', 5.0:'Middle East and Africa', 6.0:'North America', 7.0:'Western Europe', 8.0:'World'}\n",
    "market_size['Location'].replace(mapping_location,inplace=True)"
   ]
  },
  {
   "cell_type": "code",
   "execution_count": 28,
   "metadata": {},
   "outputs": [],
   "source": [
    "market_size[\"Non_minus_year\"] = market_size[\"Year_minus_2016\"] + 2016"
   ]
  },
  {
   "cell_type": "code",
   "execution_count": 29,
   "metadata": {},
   "outputs": [],
   "source": [
    "subcategories_mapping = subcategories[\"Name\"].to_dict()\n",
    "market_size['Subcategory'].replace(subcategories_mapping,inplace=True)"
   ]
  },
  {
   "cell_type": "code",
   "execution_count": 30,
   "metadata": {},
   "outputs": [],
   "source": [
    "for index,value in market_size[\"Volume\"].items():\n",
    "    if int(str(value).split(\".\")[1]) > 0:\n",
    "        market_size.loc[index,\"Volume\"] = value*1000.0"
   ]
  },
  {
   "cell_type": "code",
   "execution_count": 34,
   "metadata": {},
   "outputs": [],
   "source": [
    "for index,value in market_size[\"RSP\"].items():\n",
    "    if int(str(value).split(\".\")[1]) > 0:\n",
    "        market_size.loc[index,\"RSP\"] = value*1000.0"
   ]
  },
  {
   "cell_type": "code",
   "execution_count": 36,
   "metadata": {},
   "outputs": [],
   "source": [
    "market_size[\"Price_per_unit\"] = market_size[\"RSP\"]/market_size[\"Volume\"]"
   ]
  },
  {
   "cell_type": "code",
   "execution_count": 38,
   "metadata": {},
   "outputs": [],
   "source": [
    "market_size.to_csv(\"./clean_data/market_size.csv\")"
   ]
  }
 ],
 "metadata": {
  "kernelspec": {
   "display_name": "Python 3",
   "language": "python",
   "name": "python3"
  },
  "language_info": {
   "codemirror_mode": {
    "name": "ipython",
    "version": 3
   },
   "file_extension": ".py",
   "mimetype": "text/x-python",
   "name": "python",
   "nbconvert_exporter": "python",
   "pygments_lexer": "ipython3",
   "version": "3.11.2"
  },
  "orig_nbformat": 4
 },
 "nbformat": 4,
 "nbformat_minor": 2
}
